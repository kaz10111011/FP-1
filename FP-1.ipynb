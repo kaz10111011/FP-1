{
 "cells": [
  {
   "cell_type": "markdown",
   "metadata": {},
   "source": [
    "# FP-1:  Final Project Proposal\n",
    "\n",
    "\n",
    "Instructions:\n",
    "- Find a dataset as described in class\n",
    "- Fill in all <span style=\"color:blue\">blue text fields</span> below;  also follow the Example Proposal below\n",
    "- Delete this Markdown cell and all Example Proposal Markdown cells\n",
    "\n"
   ]
  },
  {
   "cell_type": "markdown",
   "metadata": {},
   "source": [
    "___\n",
    "\n",
    "# <span style=\"color:k\">Analysis of factors contributing to happiness</span>\n",
    "\n",
    "\n",
    "### Overview:\n",
    "\n",
    "* **Name**:  <span>Kazuma MATSUI</span>\n",
    "* **Student number**:  <span>0400373532</span>\n",
    "\n",
    "<br>"
   ]
  },
  {
   "cell_type": "markdown",
   "metadata": {},
   "source": [
    "### Purpose:\n",
    "\n",
    "* The purpose of this Final Project is to determine factors that contribute to happiness.\n",
    "* The key **dependent** variable (DV) is Life evaluation (3-year average).\n",
    "* The key **independent** variables(IVs) include:\n",
    "    * Log GDP per capita\n",
    "    * Social support\n",
    "    * Healthy life expectancy\n",
    "    * Freedom to make life choices\n",
    "    * Generosity\n",
    "    * Perceptions of corruption\n",
    "* There are one DV and six IVs. The figure has about nine thousand cases.\n",
    "\n",
    "\n",
    "<br>"
   ]
  },
  {
   "cell_type": "markdown",
   "metadata": {},
   "source": [
    "### Dataset source:\n",
    "The data come from the [WHR25_Data_Figure_2.1v3](https://view.officeapps.live.com/op/view.aspx?src=https%3A%2F%2Ffiles.worldhappiness.report%2FWHR25_Data_Figure_2.1v3.xlsx%3F_gl%3D1*1x45gye*_gcl_au*MTUwMDM5MjAzLjE3NjE5MTY1Mzc.&wdOrigin=BROWSELINK) dataset from the [World Happiness Report](https://www.worldhappiness.report/data-sharing/)"
   ]
  },
  {
   "cell_type": "markdown",
   "metadata": {},
   "source": [
    "___\n",
    "\n",
    "### <span style=\"color:red\">Example proposal:</span>\n",
    "\n",
    "<br>\n",
    "\n",
    "# Analysis of factors contributing to red wine quality\n",
    "\n",
    "\n",
    "* **Name**:  Taro KYODAI\n",
    "* **Student number**:  123456789\n",
    "\n",
    "<br>"
   ]
  },
  {
   "cell_type": "markdown",
   "metadata": {},
   "source": [
    "### Purpose:\n",
    "\n",
    "* The purpose of this Final Project is to determine the factors that contribute to red wine quality.\n",
    "* The key **dependent variable** (DV) is wine quality, an integer between 0 and 10, as judged by experts.\n",
    "* Key **independent variables** (IVs) include:\n",
    "    * fixed acidity\n",
    "    * volatile acidity\n",
    "    * citric acid\n",
    "    * residual sugar\n",
    "    * chlorides\n",
    "    * free sulfur dioxide\n",
    "    * total sulfur dioxide\n",
    "    * density\n",
    "    * pH\n",
    "    * sulphates\n",
    "    * alcohol\n",
    "* This dataset contains 1599 cases (i.e., 1599 different red wines). Each wine has values for all IVs as well as the DV.\n",
    "<br>"
   ]
  },
  {
   "cell_type": "markdown",
   "metadata": {},
   "source": [
    "### Dataset source:\n",
    "\n",
    "The data come from the [wine quality](https://archive.ics.uci.edu/ml/datasets/Wine+Quality) dataset from the [UCI Machine Learning repository](https://archive.ics.uci.edu/ml/index.php):\n",
    "\n",
    "The data are available for download [here](https://archive.ics.uci.edu/ml/machine-learning-databases/wine-quality/).\n",
    "\n",
    "Analyses of this dataset have been published previously in Cortez et al. (2009).\n",
    "\n",
    "\n",
    "#### References:\n",
    "\n",
    "P. Cortez, A. Cerdeira, F. Almeida, T. Matos and J. Reis (2009). Modeling wine preferences by data mining from physicochemical properties. In: Decision Support Systems, Elsevier, 47(4):547-553.\n",
    "doi: [10.1016/j.dss.2009.05.016](https://doi.org/10.1016/j.dss.2009.05.016)\n"
   ]
  }
 ],
 "metadata": {
  "kernelspec": {
   "display_name": "Python [conda env:base] *",
   "language": "python",
   "name": "conda-base-py"
  },
  "language_info": {
   "codemirror_mode": {
    "name": "ipython",
    "version": 3
   },
   "file_extension": ".py",
   "mimetype": "text/x-python",
   "name": "python",
   "nbconvert_exporter": "python",
   "pygments_lexer": "ipython3",
   "version": "3.13.5"
  }
 },
 "nbformat": 4,
 "nbformat_minor": 4
}
